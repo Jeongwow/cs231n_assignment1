{
 "cells": [
  {
   "cell_type": "code",
   "execution_count": 3,
   "metadata": {},
   "outputs": [],
   "source": [
    "import numpy as np"
   ]
  },
  {
   "cell_type": "code",
   "execution_count": 4,
   "metadata": {},
   "outputs": [
    {
     "name": "stdout",
     "output_type": "stream",
     "text": [
      "[[0 1 2 3 4]\n",
      " [5 6 7 8 9]]\n",
      "[[ 0  1  2  3  4]\n",
      " [ 5  6  7  8  9]\n",
      " [10 11 12 13 14]\n",
      " [15 16 17 18 19]]\n"
     ]
    }
   ],
   "source": [
    "x_test=np.arange(2*5).reshape(2,5)\n",
    "x_train=np.arange(4*5).reshape(4,5)\n",
    "\n",
    "print(x_test)\n",
    "print(x_train)"
   ]
  },
  {
   "cell_type": "code",
   "execution_count": 11,
   "metadata": {},
   "outputs": [
    {
     "name": "stdout",
     "output_type": "stream",
     "text": [
      "[[ 0  1  2  3  4]\n",
      " [ 5  6  7  8  9]\n",
      " [10 11 12 13 14]\n",
      " [15 16 17 18 19]]\n",
      "[[ 0  2  4  6  8]\n",
      " [10 12 14 16 18]\n",
      " [20 22 24 26 28]\n",
      " [30 32 34 36 38]]\n",
      "[[False False False False False]\n",
      " [False False  True  True  True]\n",
      " [ True  True  True  True  True]\n",
      " [ True  True  True  True  True]]\n",
      "[14 16 18 20 22 24 26 28 30 32 34 36 38]\n"
     ]
    }
   ],
   "source": [
    "print(x_train)\n",
    "xx_train=x_train*2\n",
    "print(xx_train)\n",
    "\n",
    "print(x_train>6)\n",
    "print(xx_train[x_train>6])\n",
    "# print(x_train[])"
   ]
  },
  {
   "cell_type": "code",
   "execution_count": 4,
   "metadata": {},
   "outputs": [
    {
     "name": "stdout",
     "output_type": "stream",
     "text": [
      "[[ 13.56465997  10.44030651  16.85229955  26.62705391]\n",
      " [117.08543889 106.69582935  96.48315915  86.51011502]]\n"
     ]
    }
   ],
   "source": [
    "num_test = x_test.shape[0]\n",
    "num_train = x_train.shape[0]\n",
    "dists = np.zeros((num_test, num_train))\n",
    "\n",
    "for i in range(x_test.shape[0]):\n",
    "    dists[i]=np.sqrt(np.sum(np.square(x_test[i]-x_train),axis=1))\n",
    "print(dists)"
   ]
  },
  {
   "attachments": {},
   "cell_type": "markdown",
   "metadata": {},
   "source": [
    "다시 공부 필요!!!!!"
   ]
  },
  {
   "cell_type": "code",
   "execution_count": 5,
   "metadata": {},
   "outputs": [
    {
     "name": "stdout",
     "output_type": "stream",
     "text": [
      "(2, 1)\n",
      "(4,)\n",
      "(2, 4)\n",
      "[[ 13.56465997  10.44030651  16.85229955  26.62705391]\n",
      " [117.08543889 106.69582935  96.48315915  86.51011502]]\n"
     ]
    }
   ],
   "source": [
    "num_test = x_test.shape[0]\n",
    "num_train = x_train.shape[0]\n",
    "dists = np.zeros((num_test, num_train))\n",
    "\n",
    "square_of_test=np.transpose([np.sum(np.square(x_test),axis=1)])\n",
    "# square_of_test=np.sum(np.square(x_test),axis=1)\n",
    "\n",
    "square_of_train=np.sum(np.square(x_train),axis=1)\n",
    "mul=-2*np.dot(x_test,x_train.T)\n",
    "\n",
    "print(square_of_test.shape)\n",
    "print(square_of_train.shape)\n",
    "print(mul.shape)\n",
    "\n",
    "\n",
    "dists=np.sqrt(mul+square_of_test+square_of_train)\n",
    "print(dists)"
   ]
  },
  {
   "cell_type": "code",
   "execution_count": 6,
   "metadata": {},
   "outputs": [
    {
     "data": {
      "text/plain": [
       "[2, 3]"
      ]
     },
     "execution_count": 6,
     "metadata": {},
     "output_type": "execute_result"
    }
   ],
   "source": [
    "sample = [1,2,3]\n",
    "\n",
    "[i for i in sample if i > 1]"
   ]
  }
 ],
 "metadata": {
  "kernelspec": {
   "display_name": "newenv",
   "language": "python",
   "name": "python3"
  },
  "language_info": {
   "codemirror_mode": {
    "name": "ipython",
    "version": 3
   },
   "file_extension": ".py",
   "mimetype": "text/x-python",
   "name": "python",
   "nbconvert_exporter": "python",
   "pygments_lexer": "ipython3",
   "version": "3.9.15"
  },
  "orig_nbformat": 4,
  "vscode": {
   "interpreter": {
    "hash": "d687b6d8650b2ea4e21153130b22f15949f90b06ff6157902312f38eb51c9b0e"
   }
  }
 },
 "nbformat": 4,
 "nbformat_minor": 2
}
